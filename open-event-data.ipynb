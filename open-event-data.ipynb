{
 "cells": [
  {
   "cell_type": "code",
   "execution_count": null,
   "id": "5769a361",
   "metadata": {},
   "outputs": [],
   "source": [
    "!pip install statsbombpy kloppy polars pyarrow"
   ]
  },
  {
   "cell_type": "markdown",
   "id": "6da1a1f0",
   "metadata": {},
   "source": [
    "### StatsBomb Open Event Data\n",
    "\n",
    "[Hudl StatsBomb](https://www.hudl.com/en_gb/products/statsbomb) is a big data provider that offers free data for research purposes.\n",
    "\n",
    "They also offer an API, usable through their `statsbombpy` Python package. \n"
   ]
  },
  {
   "cell_type": "code",
   "execution_count": 1,
   "id": "f8829977",
   "metadata": {},
   "outputs": [],
   "source": [
    "import numpy as np\n",
    "\n",
    "from kloppy import statsbomb\n",
    "import warnings\n",
    "from statsbombpy.api_client import NoAuthWarning\n",
    "\n",
    "warnings.filterwarnings('ignore', category=NoAuthWarning)\n",
    "from statsbombpy import sb"
   ]
  },
  {
   "cell_type": "markdown",
   "id": "176dfd11",
   "metadata": {},
   "source": [
    "### World Cup\n",
    "\n",
    "World Cup is competition_id 43, each World Cup has it's own season_id too, namely `3` for World Cup 2018, and `106` for World Cup 2022. \n",
    "\n",
    "Using the StatsBomb Python package we can load the matches easily into a DataFrame. "
   ]
  },
  {
   "cell_type": "code",
   "execution_count": null,
   "id": "e6dd97d6",
   "metadata": {},
   "outputs": [],
   "source": [
    "matches = sb.matches(competition_id=43, season_id=106)\n",
    "matches"
   ]
  },
  {
   "cell_type": "markdown",
   "id": "b661d29c",
   "metadata": {},
   "source": [
    "### Using Kloppy we can directly load this data"
   ]
  },
  {
   "cell_type": "code",
   "execution_count": null,
   "id": "3fca1db8",
   "metadata": {},
   "outputs": [
    {
     "data": {
      "text/html": [
       "<div><style>\n",
       ".dataframe > thead > tr,\n",
       ".dataframe > tbody > tr {\n",
       "  text-align: right;\n",
       "  white-space: pre-wrap;\n",
       "}\n",
       "</style>\n",
       "<small>shape: (3, 22)</small><table border=\"1\" class=\"dataframe\"><thead><tr><th>match_id</th><th>match_date</th><th>kick_off</th><th>competition</th><th>season</th><th>home_team</th><th>away_team</th><th>home_score</th><th>away_score</th><th>match_status</th><th>match_status_360</th><th>last_updated</th><th>last_updated_360</th><th>match_week</th><th>competition_stage</th><th>stadium</th><th>referee</th><th>home_managers</th><th>away_managers</th><th>data_version</th><th>shot_fidelity_version</th><th>xy_fidelity_version</th></tr><tr><td>i64</td><td>str</td><td>str</td><td>str</td><td>str</td><td>str</td><td>str</td><td>i64</td><td>i64</td><td>str</td><td>str</td><td>str</td><td>str</td><td>i64</td><td>str</td><td>str</td><td>str</td><td>str</td><td>str</td><td>str</td><td>str</td><td>str</td></tr></thead><tbody><tr><td>3857259</td><td>&quot;2022-11-28&quot;</td><td>&quot;12:00:00.000&quot;</td><td>&quot;International - FIFA World Cup&quot;</td><td>&quot;2022&quot;</td><td>&quot;Cameroon&quot;</td><td>&quot;Serbia&quot;</td><td>3</td><td>3</td><td>&quot;available&quot;</td><td>&quot;available&quot;</td><td>&quot;2023-05-02T06:22:00.966145&quot;</td><td>&quot;2023-06-20T16:12:11.659469&quot;</td><td>2</td><td>&quot;Group Stage&quot;</td><td>&quot;Al Janoub Stadium   &quot;</td><td>&quot;Mohamed Abdulla Hassan Mohd&quot;</td><td>&quot;Rigobert Song Bahanag&quot;</td><td>&quot;Dragan Stojković&quot;</td><td>&quot;1.1.0&quot;</td><td>&quot;2&quot;</td><td>&quot;2&quot;</td></tr><tr><td>3857290</td><td>&quot;2022-11-24&quot;</td><td>&quot;12:00:00.000&quot;</td><td>&quot;International - FIFA World Cup&quot;</td><td>&quot;2022&quot;</td><td>&quot;Switzerland&quot;</td><td>&quot;Cameroon&quot;</td><td>1</td><td>0</td><td>&quot;available&quot;</td><td>&quot;available&quot;</td><td>&quot;2023-02-28T18:50:54.855427&quot;</td><td>&quot;2023-04-27T00:35:35.819237&quot;</td><td>1</td><td>&quot;Group Stage&quot;</td><td>&quot;Al Janoub Stadium   &quot;</td><td>&quot;Facundo Tello Figueroa&quot;</td><td>&quot;Murat Yakin&quot;</td><td>&quot;Rigobert Song Bahanag&quot;</td><td>&quot;1.1.0&quot;</td><td>&quot;2&quot;</td><td>&quot;2&quot;</td></tr><tr><td>3857280</td><td>&quot;2022-12-02&quot;</td><td>&quot;21:00:00.000&quot;</td><td>&quot;International - FIFA World Cup&quot;</td><td>&quot;2022&quot;</td><td>&quot;Cameroon&quot;</td><td>&quot;Brazil&quot;</td><td>1</td><td>0</td><td>&quot;available&quot;</td><td>&quot;available&quot;</td><td>&quot;2023-02-19T06:21:58.854769&quot;</td><td>&quot;2023-04-26T23:48:44.801077&quot;</td><td>3</td><td>&quot;Group Stage&quot;</td><td>&quot;Lusail Stadium&quot;</td><td>&quot;Ismail Elfath&quot;</td><td>&quot;Rigobert Song Bahanag&quot;</td><td>&quot;Adenor Leonardo Bacchi&quot;</td><td>&quot;1.1.0&quot;</td><td>&quot;2&quot;</td><td>&quot;2&quot;</td></tr></tbody></table></div>"
      ],
      "text/plain": [
       "shape: (3, 22)\n",
       "┌─────┬─────┬─────┬─────┬─────┬─────┬─────┬─────┬─────┬─────┬─────┬─────┬─────┬─────┬─────┬─────┬─────┬─────┬─────┬─────┬─────┬─────┐\n",
       "│ mat ┆ mat ┆ kic ┆ com ┆ sea ┆ hom ┆ awa ┆ hom ┆ awa ┆ mat ┆ mat ┆ las ┆ las ┆ mat ┆ com ┆ sta ┆ ref ┆ hom ┆ awa ┆ dat ┆ sho ┆ xy_ │\n",
       "│ ch_ ┆ ch_ ┆ k_o ┆ pet ┆ son ┆ e_t ┆ y_t ┆ e_s ┆ y_s ┆ ch_ ┆ ch_ ┆ t_u ┆ t_u ┆ ch_ ┆ pet ┆ diu ┆ ere ┆ e_m ┆ y_m ┆ a_v ┆ t_f ┆ fid │\n",
       "│ id  ┆ dat ┆ ff  ┆ iti ┆ --- ┆ eam ┆ eam ┆ cor ┆ cor ┆ sta ┆ sta ┆ pda ┆ pda ┆ wee ┆ iti ┆ m   ┆ e   ┆ ana ┆ ana ┆ ers ┆ ide ┆ eli │\n",
       "│ --- ┆ e   ┆ --- ┆ on  ┆ str ┆ --- ┆ --- ┆ e   ┆ e   ┆ tus ┆ tus ┆ ted ┆ ted ┆ k   ┆ on_ ┆ --- ┆ --- ┆ ger ┆ ger ┆ ion ┆ lit ┆ ty_ │\n",
       "│ i64 ┆ --- ┆ str ┆ --- ┆     ┆ str ┆ str ┆ --- ┆ --- ┆ --- ┆ _36 ┆ --- ┆ _36 ┆ --- ┆ sta ┆ str ┆ str ┆ s   ┆ s   ┆ --- ┆ y_v ┆ ver │\n",
       "│     ┆ str ┆     ┆ str ┆     ┆     ┆     ┆ i64 ┆ i64 ┆ str ┆ 0   ┆ str ┆ 0   ┆ i64 ┆ ge  ┆     ┆     ┆ --- ┆ --- ┆ str ┆ ers ┆ sio │\n",
       "│     ┆     ┆     ┆     ┆     ┆     ┆     ┆     ┆     ┆     ┆ --- ┆     ┆ --- ┆     ┆ --- ┆     ┆     ┆ str ┆ str ┆     ┆ ion ┆ n   │\n",
       "│     ┆     ┆     ┆     ┆     ┆     ┆     ┆     ┆     ┆     ┆ str ┆     ┆ str ┆     ┆ str ┆     ┆     ┆     ┆     ┆     ┆ --- ┆ --- │\n",
       "│     ┆     ┆     ┆     ┆     ┆     ┆     ┆     ┆     ┆     ┆     ┆     ┆     ┆     ┆     ┆     ┆     ┆     ┆     ┆     ┆ str ┆ str │\n",
       "╞═════╪═════╪═════╪═════╪═════╪═════╪═════╪═════╪═════╪═════╪═════╪═════╪═════╪═════╪═════╪═════╪═════╪═════╪═════╪═════╪═════╪═════╡\n",
       "│ 385 ┆ 202 ┆ 12: ┆ Int ┆ 202 ┆ Cam ┆ Ser ┆ 3   ┆ 3   ┆ ava ┆ ava ┆ 202 ┆ 202 ┆ 2   ┆ Gro ┆ Al  ┆ Moh ┆ Rig ┆ Dra ┆ 1.1 ┆ 2   ┆ 2   │\n",
       "│ 725 ┆ 2-1 ┆ 00: ┆ ern ┆ 2   ┆ ero ┆ bia ┆     ┆     ┆ ila ┆ ila ┆ 3-0 ┆ 3-0 ┆     ┆ up  ┆ Jan ┆ ame ┆ obe ┆ gan ┆ .0  ┆     ┆     │\n",
       "│ 9   ┆ 1-2 ┆ 00. ┆ ati ┆     ┆ on  ┆     ┆     ┆     ┆ ble ┆ ble ┆ 5-0 ┆ 6-2 ┆     ┆ Sta ┆ oub ┆ d   ┆ rt  ┆ Sto ┆     ┆     ┆     │\n",
       "│     ┆ 8   ┆ 000 ┆ ona ┆     ┆     ┆     ┆     ┆     ┆     ┆     ┆ 2T0 ┆ 0T1 ┆     ┆ ge  ┆ Sta ┆ Abd ┆ Son ┆ jko ┆     ┆     ┆     │\n",
       "│     ┆     ┆     ┆ l - ┆     ┆     ┆     ┆     ┆     ┆     ┆     ┆ 6:2 ┆ 6:1 ┆     ┆     ┆ diu ┆ ull ┆ g   ┆ vić ┆     ┆     ┆     │\n",
       "│     ┆     ┆     ┆ FIF ┆     ┆     ┆     ┆     ┆     ┆     ┆     ┆ 2:0 ┆ 2:1 ┆     ┆     ┆ m   ┆ a   ┆ Bah ┆     ┆     ┆     ┆     │\n",
       "│     ┆     ┆     ┆ A   ┆     ┆     ┆     ┆     ┆     ┆     ┆     ┆ 0.9 ┆ 1.6 ┆     ┆     ┆     ┆ Has ┆ ana ┆     ┆     ┆     ┆     │\n",
       "│     ┆     ┆     ┆ Wor ┆     ┆     ┆     ┆     ┆     ┆     ┆     ┆ 661 ┆ 594 ┆     ┆     ┆     ┆ san ┆ g   ┆     ┆     ┆     ┆     │\n",
       "│     ┆     ┆     ┆ ld  ┆     ┆     ┆     ┆     ┆     ┆     ┆     ┆ 45  ┆ 69  ┆     ┆     ┆     ┆ Moh ┆     ┆     ┆     ┆     ┆     │\n",
       "│     ┆     ┆     ┆ Cup ┆     ┆     ┆     ┆     ┆     ┆     ┆     ┆     ┆     ┆     ┆     ┆     ┆ d   ┆     ┆     ┆     ┆     ┆     │\n",
       "│ 385 ┆ 202 ┆ 12: ┆ Int ┆ 202 ┆ Swi ┆ Cam ┆ 1   ┆ 0   ┆ ava ┆ ava ┆ 202 ┆ 202 ┆ 1   ┆ Gro ┆ Al  ┆ Fac ┆ Mur ┆ Rig ┆ 1.1 ┆ 2   ┆ 2   │\n",
       "│ 729 ┆ 2-1 ┆ 00: ┆ ern ┆ 2   ┆ tze ┆ ero ┆     ┆     ┆ ila ┆ ila ┆ 3-0 ┆ 3-0 ┆     ┆ up  ┆ Jan ┆ und ┆ at  ┆ obe ┆ .0  ┆     ┆     │\n",
       "│ 0   ┆ 1-2 ┆ 00. ┆ ati ┆     ┆ rla ┆ on  ┆     ┆     ┆ ble ┆ ble ┆ 2-2 ┆ 4-2 ┆     ┆ Sta ┆ oub ┆ o   ┆ Yak ┆ rt  ┆     ┆     ┆     │\n",
       "│     ┆ 4   ┆ 000 ┆ ona ┆     ┆ nd  ┆     ┆     ┆     ┆     ┆     ┆ 8T1 ┆ 7T0 ┆     ┆ ge  ┆ Sta ┆ Tel ┆ in  ┆ Son ┆     ┆     ┆     │\n",
       "│     ┆     ┆     ┆ l - ┆     ┆     ┆     ┆     ┆     ┆     ┆     ┆ 8:5 ┆ 0:3 ┆     ┆     ┆ diu ┆ lo  ┆     ┆ g   ┆     ┆     ┆     │\n",
       "│     ┆     ┆     ┆ FIF ┆     ┆     ┆     ┆     ┆     ┆     ┆     ┆ 0:5 ┆ 5:3 ┆     ┆     ┆ m   ┆ Fig ┆     ┆ Bah ┆     ┆     ┆     │\n",
       "│     ┆     ┆     ┆ A   ┆     ┆     ┆     ┆     ┆     ┆     ┆     ┆ 4.8 ┆ 5.8 ┆     ┆     ┆     ┆ uer ┆     ┆ ana ┆     ┆     ┆     │\n",
       "│     ┆     ┆     ┆ Wor ┆     ┆     ┆     ┆     ┆     ┆     ┆     ┆ 554 ┆ 192 ┆     ┆     ┆     ┆ oa  ┆     ┆ g   ┆     ┆     ┆     │\n",
       "│     ┆     ┆     ┆ ld  ┆     ┆     ┆     ┆     ┆     ┆     ┆     ┆ 27  ┆ 37  ┆     ┆     ┆     ┆     ┆     ┆     ┆     ┆     ┆     │\n",
       "│     ┆     ┆     ┆ Cup ┆     ┆     ┆     ┆     ┆     ┆     ┆     ┆     ┆     ┆     ┆     ┆     ┆     ┆     ┆     ┆     ┆     ┆     │\n",
       "│ 385 ┆ 202 ┆ 21: ┆ Int ┆ 202 ┆ Cam ┆ Bra ┆ 1   ┆ 0   ┆ ava ┆ ava ┆ 202 ┆ 202 ┆ 3   ┆ Gro ┆ Lus ┆ Ism ┆ Rig ┆ Ade ┆ 1.1 ┆ 2   ┆ 2   │\n",
       "│ 728 ┆ 2-1 ┆ 00: ┆ ern ┆ 2   ┆ ero ┆ zil ┆     ┆     ┆ ila ┆ ila ┆ 3-0 ┆ 3-0 ┆     ┆ up  ┆ ail ┆ ail ┆ obe ┆ nor ┆ .0  ┆     ┆     │\n",
       "│ 0   ┆ 2-0 ┆ 00. ┆ ati ┆     ┆ on  ┆     ┆     ┆     ┆ ble ┆ ble ┆ 2-1 ┆ 4-2 ┆     ┆ Sta ┆ Sta ┆ Elf ┆ rt  ┆ Leo ┆     ┆     ┆     │\n",
       "│     ┆ 2   ┆ 000 ┆ ona ┆     ┆     ┆     ┆     ┆     ┆     ┆     ┆ 9T0 ┆ 6T2 ┆     ┆ ge  ┆ diu ┆ ath ┆ Son ┆ nar ┆     ┆     ┆     │\n",
       "│     ┆     ┆     ┆ l - ┆     ┆     ┆     ┆     ┆     ┆     ┆     ┆ 6:2 ┆ 3:4 ┆     ┆     ┆ m   ┆     ┆ g   ┆ do  ┆     ┆     ┆     │\n",
       "│     ┆     ┆     ┆ FIF ┆     ┆     ┆     ┆     ┆     ┆     ┆     ┆ 1:5 ┆ 8:4 ┆     ┆     ┆     ┆     ┆ Bah ┆ Bac ┆     ┆     ┆     │\n",
       "│     ┆     ┆     ┆ A   ┆     ┆     ┆     ┆     ┆     ┆     ┆     ┆ 8.8 ┆ 4.8 ┆     ┆     ┆     ┆     ┆ ana ┆ chi ┆     ┆     ┆     │\n",
       "│     ┆     ┆     ┆ Wor ┆     ┆     ┆     ┆     ┆     ┆     ┆     ┆ 547 ┆ 010 ┆     ┆     ┆     ┆     ┆ g   ┆     ┆     ┆     ┆     │\n",
       "│     ┆     ┆     ┆ ld  ┆     ┆     ┆     ┆     ┆     ┆     ┆     ┆ 69  ┆ 77  ┆     ┆     ┆     ┆     ┆     ┆     ┆     ┆     ┆     │\n",
       "│     ┆     ┆     ┆ Cup ┆     ┆     ┆     ┆     ┆     ┆     ┆     ┆     ┆     ┆     ┆     ┆     ┆     ┆     ┆     ┆     ┆     ┆     │\n",
       "└─────┴─────┴─────┴─────┴─────┴─────┴─────┴─────┴─────┴─────┴─────┴─────┴─────┴─────┴─────┴─────┴─────┴─────┴─────┴─────┴─────┴─────┘"
      ]
     },
     "execution_count": 3,
     "metadata": {},
     "output_type": "execute_result"
    }
   ],
   "source": [
    "import polars as pl\n",
    "pl.Config(tbl_rows=64, tbl_cols=100)    \n",
    "\n",
    "cm_matches = (\n",
    "    pl.from_pandas(matches)\n",
    "    .filter((\n",
    "        (pl.col(\"home_team\") == 'Cameroon') | (pl.col(\"away_team\") == \"Cameroon\")\n",
    "    ))\n",
    ")\n",
    "cm_matches"
   ]
  },
  {
   "cell_type": "code",
   "execution_count": 31,
   "id": "b8df8a07",
   "metadata": {},
   "outputs": [
    {
     "data": {
      "text/plain": [
       "<EventDataset record_count=3388>"
      ]
     },
     "execution_count": 31,
     "metadata": {},
     "output_type": "execute_result"
    }
   ],
   "source": [
    "match_id = cm_matches['match_id'][0]\n",
    "statsbomb_dataset = statsbomb.load(\n",
    "    event_data=f\"https://raw.githubusercontent.com/statsbomb/open-data/master/data/events/{match_id}.json\",\n",
    "    lineup_data=f\"https://raw.githubusercontent.com/statsbomb/open-data/master/data/lineups/{match_id}.json\",\n",
    "    three_sixty_data=f\"https://raw.githubusercontent.com/statsbomb/open-data/master/data/three-sixty/{match_id}.json\"\n",
    ")\n",
    "statsbomb_dataset"
   ]
  },
  {
   "cell_type": "markdown",
   "id": "caacc87b",
   "metadata": {},
   "source": []
  }
 ],
 "metadata": {
  "kernelspec": {
   "display_name": "pysport_env",
   "language": "python",
   "name": "python3"
  },
  "language_info": {
   "codemirror_mode": {
    "name": "ipython",
    "version": 3
   },
   "file_extension": ".py",
   "mimetype": "text/x-python",
   "name": "python",
   "nbconvert_exporter": "python",
   "pygments_lexer": "ipython3",
   "version": "3.11.13"
  }
 },
 "nbformat": 4,
 "nbformat_minor": 5
}
