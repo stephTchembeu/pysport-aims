{
 "cells": [
  {
   "cell_type": "code",
   "execution_count": 1,
   "id": "5769a361",
   "metadata": {},
   "outputs": [
    {
     "name": "stdout",
     "output_type": "stream",
     "text": [
      "Requirement already satisfied: statsbombpy in ./venv/lib/python3.11/site-packages (1.16.0)\n",
      "Requirement already satisfied: kloppy in ./venv/lib/python3.11/site-packages (3.17.0)\n",
      "Requirement already satisfied: polars in ./venv/lib/python3.11/site-packages (1.31.0)\n",
      "Requirement already satisfied: pyarrow in ./venv/lib/python3.11/site-packages (20.0.0)\n",
      "Requirement already satisfied: pandas in ./venv/lib/python3.11/site-packages (from statsbombpy) (2.3.1)\n",
      "Requirement already satisfied: requests in ./venv/lib/python3.11/site-packages (from statsbombpy) (2.32.4)\n",
      "Requirement already satisfied: requests-cache in ./venv/lib/python3.11/site-packages (from statsbombpy) (1.2.1)\n",
      "Requirement already satisfied: inflect in ./venv/lib/python3.11/site-packages (from statsbombpy) (7.5.0)\n",
      "Requirement already satisfied: joblib in ./venv/lib/python3.11/site-packages (from statsbombpy) (1.5.1)\n",
      "Requirement already satisfied: lxml>=4.4.0 in ./venv/lib/python3.11/site-packages (from kloppy) (6.0.0)\n",
      "Requirement already satisfied: pytz>=2020.1 in ./venv/lib/python3.11/site-packages (from kloppy) (2025.2)\n",
      "Requirement already satisfied: sortedcontainers>=2 in ./venv/lib/python3.11/site-packages (from kloppy) (2.4.0)\n",
      "Requirement already satisfied: fsspec>=2024.12.0 in ./venv/lib/python3.11/site-packages (from fsspec[http]>=2024.12.0->kloppy) (2025.7.0)\n",
      "Requirement already satisfied: aiohttp!=4.0.0a0,!=4.0.0a1 in ./venv/lib/python3.11/site-packages (from fsspec[http]>=2024.12.0->kloppy) (3.12.14)\n",
      "Requirement already satisfied: more_itertools>=8.5.0 in ./venv/lib/python3.11/site-packages (from inflect->statsbombpy) (10.7.0)\n",
      "Requirement already satisfied: typeguard>=4.0.1 in ./venv/lib/python3.11/site-packages (from inflect->statsbombpy) (4.4.4)\n",
      "Requirement already satisfied: numpy>=1.23.2 in ./venv/lib/python3.11/site-packages (from pandas->statsbombpy) (2.3.1)\n",
      "Requirement already satisfied: python-dateutil>=2.8.2 in ./venv/lib/python3.11/site-packages (from pandas->statsbombpy) (2.9.0.post0)\n",
      "Requirement already satisfied: tzdata>=2022.7 in ./venv/lib/python3.11/site-packages (from pandas->statsbombpy) (2025.2)\n",
      "Requirement already satisfied: charset_normalizer<4,>=2 in ./venv/lib/python3.11/site-packages (from requests->statsbombpy) (3.4.2)\n",
      "Requirement already satisfied: idna<4,>=2.5 in ./venv/lib/python3.11/site-packages (from requests->statsbombpy) (3.10)\n",
      "Requirement already satisfied: urllib3<3,>=1.21.1 in ./venv/lib/python3.11/site-packages (from requests->statsbombpy) (2.5.0)\n",
      "Requirement already satisfied: certifi>=2017.4.17 in ./venv/lib/python3.11/site-packages (from requests->statsbombpy) (2025.7.14)\n",
      "Requirement already satisfied: attrs>=21.2 in ./venv/lib/python3.11/site-packages (from requests-cache->statsbombpy) (25.3.0)\n",
      "Requirement already satisfied: cattrs>=22.2 in ./venv/lib/python3.11/site-packages (from requests-cache->statsbombpy) (25.1.1)\n",
      "Requirement already satisfied: platformdirs>=2.5 in ./venv/lib/python3.11/site-packages (from requests-cache->statsbombpy) (4.3.8)\n",
      "Requirement already satisfied: url-normalize>=1.4 in ./venv/lib/python3.11/site-packages (from requests-cache->statsbombpy) (2.2.1)\n",
      "Requirement already satisfied: aiohappyeyeballs>=2.5.0 in ./venv/lib/python3.11/site-packages (from aiohttp!=4.0.0a0,!=4.0.0a1->fsspec[http]>=2024.12.0->kloppy) (2.6.1)\n",
      "Requirement already satisfied: aiosignal>=1.4.0 in ./venv/lib/python3.11/site-packages (from aiohttp!=4.0.0a0,!=4.0.0a1->fsspec[http]>=2024.12.0->kloppy) (1.4.0)\n",
      "Requirement already satisfied: frozenlist>=1.1.1 in ./venv/lib/python3.11/site-packages (from aiohttp!=4.0.0a0,!=4.0.0a1->fsspec[http]>=2024.12.0->kloppy) (1.7.0)\n",
      "Requirement already satisfied: multidict<7.0,>=4.5 in ./venv/lib/python3.11/site-packages (from aiohttp!=4.0.0a0,!=4.0.0a1->fsspec[http]>=2024.12.0->kloppy) (6.6.3)\n",
      "Requirement already satisfied: propcache>=0.2.0 in ./venv/lib/python3.11/site-packages (from aiohttp!=4.0.0a0,!=4.0.0a1->fsspec[http]>=2024.12.0->kloppy) (0.3.2)\n",
      "Requirement already satisfied: yarl<2.0,>=1.17.0 in ./venv/lib/python3.11/site-packages (from aiohttp!=4.0.0a0,!=4.0.0a1->fsspec[http]>=2024.12.0->kloppy) (1.20.1)\n",
      "Requirement already satisfied: typing-extensions>=4.12.2 in ./venv/lib/python3.11/site-packages (from cattrs>=22.2->requests-cache->statsbombpy) (4.14.1)\n",
      "Requirement already satisfied: six>=1.5 in ./venv/lib/python3.11/site-packages (from python-dateutil>=2.8.2->pandas->statsbombpy) (1.17.0)\n",
      "\n",
      "\u001b[1m[\u001b[0m\u001b[34;49mnotice\u001b[0m\u001b[1;39;49m]\u001b[0m\u001b[39;49m A new release of pip is available: \u001b[0m\u001b[31;49m24.3.1\u001b[0m\u001b[39;49m -> \u001b[0m\u001b[32;49m25.1.1\u001b[0m\n",
      "\u001b[1m[\u001b[0m\u001b[34;49mnotice\u001b[0m\u001b[1;39;49m]\u001b[0m\u001b[39;49m To update, run: \u001b[0m\u001b[32;49mpip install --upgrade pip\u001b[0m\n"
     ]
    }
   ],
   "source": [
    "!pip install statsbombpy kloppy polars pyarrow"
   ]
  },
  {
   "cell_type": "markdown",
   "id": "6da1a1f0",
   "metadata": {},
   "source": [
    "### StatsBomb Open Event Data\n",
    "\n",
    "[Hudl StatsBomb](https://www.hudl.com/en_gb/products/statsbomb) is a big data provider that offers free data for research purposes.\n",
    "\n",
    "They also offer an API, usable through their `statsbombpy` Python package. \n"
   ]
  },
  {
   "cell_type": "code",
   "execution_count": 15,
   "id": "f8829977",
   "metadata": {},
   "outputs": [],
   "source": [
    "import numpy as np\n",
    "\n",
    "from kloppy import statsbomb\n",
    "import warnings\n",
    "from statsbombpy.api_client import NoAuthWarning\n",
    "\n",
    "warnings.filterwarnings('ignore', category=NoAuthWarning)\n",
    "from statsbombpy import sb"
   ]
  },
  {
   "cell_type": "markdown",
   "id": "176dfd11",
   "metadata": {},
   "source": [
    "### World Cup\n",
    "\n",
    "World Cup is competition_id 43, each World Cup has it's own season_id too, namely `3` for World Cup 2018, and `106` for World Cup 2022. \n",
    "\n",
    "Using the StatsBomb Python package we can load the matches easily into a DataFrame. "
   ]
  },
  {
   "cell_type": "code",
   "execution_count": 25,
   "id": "e6dd97d6",
   "metadata": {},
   "outputs": [],
   "source": [
    "matches = sb.matches(competition_id=43, season_id=106)"
   ]
  },
  {
   "cell_type": "markdown",
   "id": "b661d29c",
   "metadata": {},
   "source": [
    "### Using Kloppy we can directly load this data"
   ]
  },
  {
   "cell_type": "code",
   "execution_count": null,
   "id": "3fca1db8",
   "metadata": {},
   "outputs": [],
   "source": [
    "import polars as pl\n",
    "pl.Config(tbl_rows=64, tbl_cols=100)\n",
    "\n",
    "cm_matches = (\n",
    "    pl.from_pandas(matches)\n",
    "    .filter((\n",
    "        (pl.col(\"home_team\") == 'Cameroon') | (pl.col(\"away_team\") == \"Cameroon\")\n",
    "    ))\n",
    ")\n",
    "cm_matches"
   ]
  },
  {
   "cell_type": "code",
   "execution_count": 31,
   "id": "b8df8a07",
   "metadata": {},
   "outputs": [
    {
     "data": {
      "text/plain": [
       "<EventDataset record_count=3388>"
      ]
     },
     "execution_count": 31,
     "metadata": {},
     "output_type": "execute_result"
    }
   ],
   "source": [
    "match_id = cm_matches['match_id'][0]\n",
    "statsbomb_dataset = statsbomb.load(\n",
    "    event_data=f\"https://raw.githubusercontent.com/statsbomb/open-data/master/data/events/{match_id}.json\",\n",
    "    lineup_data=f\"https://raw.githubusercontent.com/statsbomb/open-data/master/data/lineups/{match_id}.json\",\n",
    "    three_sixty_data=f\"https://raw.githubusercontent.com/statsbomb/open-data/master/data/three-sixty/{match_id}.json\"\n",
    ")\n",
    "statsbomb_dataset"
   ]
  }
 ],
 "metadata": {
  "kernelspec": {
   "display_name": "venv",
   "language": "python",
   "name": "python3"
  },
  "language_info": {
   "codemirror_mode": {
    "name": "ipython",
    "version": 3
   },
   "file_extension": ".py",
   "mimetype": "text/x-python",
   "name": "python",
   "nbconvert_exporter": "python",
   "pygments_lexer": "ipython3",
   "version": "3.11.11"
  }
 },
 "nbformat": 4,
 "nbformat_minor": 5
}
